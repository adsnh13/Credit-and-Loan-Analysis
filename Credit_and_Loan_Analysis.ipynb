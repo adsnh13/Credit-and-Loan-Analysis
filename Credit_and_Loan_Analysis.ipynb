{
  "nbformat": 4,
  "nbformat_minor": 0,
  "metadata": {
    "colab": {
      "provenance": []
    },
    "kernelspec": {
      "name": "python3",
      "display_name": "Python 3"
    },
    "language_info": {
      "name": "python"
    }
  },
  "cells": [
    {
      "cell_type": "code",
      "metadata": {
        "id": "fcfb5953",
        "outputId": "18dee1d8-d4f7-4205-d6d1-46280a5c9c01",
        "colab": {
          "base_uri": "https://localhost:8080/"
        }
      },
      "source": [
        "%pip install findspark"
      ],
      "execution_count": 2,
      "outputs": [
        {
          "output_type": "stream",
          "name": "stdout",
          "text": [
            "Collecting findspark\n",
            "  Downloading findspark-2.0.1-py2.py3-none-any.whl.metadata (352 bytes)\n",
            "Downloading findspark-2.0.1-py2.py3-none-any.whl (4.4 kB)\n",
            "Installing collected packages: findspark\n",
            "Successfully installed findspark-2.0.1\n"
          ]
        }
      ]
    },
    {
      "cell_type": "code",
      "execution_count": 3,
      "metadata": {
        "id": "oDIdqT8vwetR"
      },
      "outputs": [],
      "source": [
        "import findspark\n",
        "import pyspark\n",
        "from pyspark.sql import SparkSession\n",
        "spark = SparkSession.builder.getOrCreate()\n",
        "from pyspark.sql.functions import *\n",
        "import pandas as pd\n",
        "import numpy as np\n",
        "import matplotlib.pyplot as plt\n",
        "import seaborn as sns"
      ]
    },
    {
      "cell_type": "code",
      "source": [
        "df = spark.read.csv('/content/drive/MyDrive/Datasets/loan.csv', inferSchema = True, header = True)"
      ],
      "metadata": {
        "id": "-fmZDYICxNaw"
      },
      "execution_count": 4,
      "outputs": []
    },
    {
      "cell_type": "code",
      "source": [
        "df.printSchema()"
      ],
      "metadata": {
        "colab": {
          "base_uri": "https://localhost:8080/"
        },
        "id": "N-go0ZxMxlb0",
        "outputId": "49086af1-8a0a-4ff2-c7bd-299404b5b51a"
      },
      "execution_count": 5,
      "outputs": [
        {
          "output_type": "stream",
          "name": "stdout",
          "text": [
            "root\n",
            " |-- Customer_ID: string (nullable = true)\n",
            " |-- Age: integer (nullable = true)\n",
            " |-- Gender: string (nullable = true)\n",
            " |-- Occupation: string (nullable = true)\n",
            " |-- Marital Status: string (nullable = true)\n",
            " |-- Family Size: integer (nullable = true)\n",
            " |-- Income: integer (nullable = true)\n",
            " |-- Expenditure: integer (nullable = true)\n",
            " |-- Use Frequency: integer (nullable = true)\n",
            " |-- Loan Category: string (nullable = true)\n",
            " |-- Loan Amount: string (nullable = true)\n",
            " |-- Overdue: integer (nullable = true)\n",
            " |--  Debt Record: string (nullable = true)\n",
            " |--  Returned Cheque: integer (nullable = true)\n",
            " |--  Dishonour of Bill: integer (nullable = true)\n",
            "\n"
          ]
        }
      ]
    },
    {
      "cell_type": "code",
      "source": [
        "df.show(5)\n"
      ],
      "metadata": {
        "colab": {
          "base_uri": "https://localhost:8080/"
        },
        "id": "3i9kDZkfxnkI",
        "outputId": "5e55e85f-ab64-4a10-bbdf-68e810494817"
      },
      "execution_count": 6,
      "outputs": [
        {
          "output_type": "stream",
          "name": "stdout",
          "text": [
            "+-----------+---+------+------------+--------------+-----------+------+-----------+-------------+-------------+-----------+-------+------------+----------------+------------------+\n",
            "|Customer_ID|Age|Gender|  Occupation|Marital Status|Family Size|Income|Expenditure|Use Frequency|Loan Category|Loan Amount|Overdue| Debt Record| Returned Cheque| Dishonour of Bill|\n",
            "+-----------+---+------+------------+--------------+-----------+------+-----------+-------------+-------------+-----------+-------+------------+----------------+------------------+\n",
            "|    IB14001| 30|  MALE|BANK MANAGER|        SINGLE|          4| 50000|      22199|            6|      HOUSING| 10,00,000 |      5|      42,898|               6|                 9|\n",
            "|    IB14008| 44|  MALE|   PROFESSOR|       MARRIED|          6| 51000|      19999|            4|     SHOPPING|     50,000|      3|      33,999|               1|                 5|\n",
            "|    IB14012| 30|FEMALE|     DENTIST|        SINGLE|          3| 58450|      27675|            5|   TRAVELLING|     75,000|      6|      20,876|               3|                 1|\n",
            "|    IB14018| 29|  MALE|     TEACHER|       MARRIED|          5| 45767|      12787|            3|    GOLD LOAN|  6,00,000 |      7|      11,000|               0|                 4|\n",
            "|    IB14022| 34|  MALE|      POLICE|        SINGLE|          4| 43521|      11999|            3|   AUTOMOBILE|  2,00,000 |      2|      43,898|               1|                 2|\n",
            "+-----------+---+------+------------+--------------+-----------+------+-----------+-------------+-------------+-----------+-------+------------+----------------+------------------+\n",
            "only showing top 5 rows\n",
            "\n"
          ]
        }
      ]
    },
    {
      "cell_type": "code",
      "source": [
        "len(df.columns)"
      ],
      "metadata": {
        "colab": {
          "base_uri": "https://localhost:8080/"
        },
        "id": "-XvQUD6exp4_",
        "outputId": "4abf886f-44ab-478b-ddae-1cec51e06fe5"
      },
      "execution_count": 7,
      "outputs": [
        {
          "output_type": "execute_result",
          "data": {
            "text/plain": [
              "15"
            ]
          },
          "metadata": {},
          "execution_count": 7
        }
      ]
    },
    {
      "cell_type": "code",
      "source": [
        "df.count()"
      ],
      "metadata": {
        "colab": {
          "base_uri": "https://localhost:8080/"
        },
        "id": "uQm3n500xu-W",
        "outputId": "6efdeace-3940-47b2-98fc-3f0b138eb7da"
      },
      "execution_count": 8,
      "outputs": [
        {
          "output_type": "execute_result",
          "data": {
            "text/plain": [
              "500"
            ]
          },
          "metadata": {},
          "execution_count": 8
        }
      ]
    },
    {
      "cell_type": "code",
      "source": [
        "df.distinct().count()"
      ],
      "metadata": {
        "colab": {
          "base_uri": "https://localhost:8080/"
        },
        "id": "FMpJh6Ncx4FX",
        "outputId": "1e41c96c-e5d1-4533-cede-f9d9746c22dd"
      },
      "execution_count": 9,
      "outputs": [
        {
          "output_type": "execute_result",
          "data": {
            "text/plain": [
              "500"
            ]
          },
          "metadata": {},
          "execution_count": 9
        }
      ]
    },
    {
      "cell_type": "code",
      "source": [
        "df.groupBy(\"Loan Category\").count().orderBy(\"count\", ascending = False).show()"
      ],
      "metadata": {
        "colab": {
          "base_uri": "https://localhost:8080/"
        },
        "id": "n7-2lxePxyYh",
        "outputId": "bded7bd3-63bb-450a-ea20-9939ff3aa105"
      },
      "execution_count": 10,
      "outputs": [
        {
          "output_type": "stream",
          "name": "stdout",
          "text": [
            "+------------------+-----+\n",
            "|     Loan Category|count|\n",
            "+------------------+-----+\n",
            "|         GOLD LOAN|   77|\n",
            "|           HOUSING|   67|\n",
            "|        AUTOMOBILE|   60|\n",
            "|        TRAVELLING|   53|\n",
            "|       RESTAURANTS|   41|\n",
            "|COMPUTER SOFTWARES|   35|\n",
            "|          SHOPPING|   35|\n",
            "|          BUSINESS|   24|\n",
            "|  EDUCATIONAL LOAN|   20|\n",
            "|        RESTAURANT|   20|\n",
            "|           DINNING|   14|\n",
            "|       ELECTRONICS|   14|\n",
            "|   HOME APPLIANCES|   14|\n",
            "|       AGRICULTURE|   12|\n",
            "|       BOOK STORES|    7|\n",
            "|          BUILDING|    7|\n",
            "+------------------+-----+\n",
            "\n"
          ]
        }
      ]
    },
    {
      "cell_type": "code",
      "source": [
        "df.filter(df[\"Loan Amount\"]>\"1,00,000\").count()"
      ],
      "metadata": {
        "colab": {
          "base_uri": "https://localhost:8080/"
        },
        "id": "LKisDNUSx7LN",
        "outputId": "0f77e39f-3c28-4b1a-ba39-f69c4c8d477f"
      },
      "execution_count": 11,
      "outputs": [
        {
          "output_type": "execute_result",
          "data": {
            "text/plain": [
              "379"
            ]
          },
          "metadata": {},
          "execution_count": 11
        }
      ]
    },
    {
      "cell_type": "code",
      "source": [
        "#number of people with income greater than 60000 rupees\n",
        "df.filter(df[\"Income\"]>\"60000\").count()"
      ],
      "metadata": {
        "colab": {
          "base_uri": "https://localhost:8080/"
        },
        "id": "PEUimjcsx-iQ",
        "outputId": "f803d030-6b50-468d-8f2d-d22699e91ddc"
      },
      "execution_count": 12,
      "outputs": [
        {
          "output_type": "execute_result",
          "data": {
            "text/plain": [
              "198"
            ]
          },
          "metadata": {},
          "execution_count": 12
        }
      ]
    },
    {
      "cell_type": "code",
      "source": [
        "#number of people with 2 or more returned cheques and income less than 50000\n",
        "df.filter((df[\" Returned Cheque\"]>\"1\") & (df[\"Income\"]<\"50000\")).count()"
      ],
      "metadata": {
        "colab": {
          "base_uri": "https://localhost:8080/"
        },
        "id": "hlKMzzxXyBWu",
        "outputId": "7174309c-77ed-43ab-db92-42a5c41d94d9"
      },
      "execution_count": 13,
      "outputs": [
        {
          "output_type": "execute_result",
          "data": {
            "text/plain": [
              "137"
            ]
          },
          "metadata": {},
          "execution_count": 13
        }
      ]
    },
    {
      "cell_type": "code",
      "source": [
        "#number of people with 2 or more returned cheques and are single\n",
        "df.filter((df[\" Returned Cheque\"]>\"1\") & (df[\"Marital Status\"]<\"SINGLE\")).count()"
      ],
      "metadata": {
        "colab": {
          "base_uri": "https://localhost:8080/"
        },
        "id": "IMsvaqNnyEW6",
        "outputId": "1da3c086-2edc-4584-8f18-c7fa2581b186"
      },
      "execution_count": 14,
      "outputs": [
        {
          "output_type": "execute_result",
          "data": {
            "text/plain": [
              "283"
            ]
          },
          "metadata": {},
          "execution_count": 14
        }
      ]
    },
    {
      "cell_type": "code",
      "source": [
        "#number of people with expenditure over 50000 a month\n",
        "df.filter((df[\"Expenditure\"]>\"50000\")).show()"
      ],
      "metadata": {
        "colab": {
          "base_uri": "https://localhost:8080/"
        },
        "id": "tRCJMLdpyHBb",
        "outputId": "42a7c4bc-da3e-42db-a018-662c4e59c04e"
      },
      "execution_count": 15,
      "outputs": [
        {
          "output_type": "stream",
          "name": "stdout",
          "text": [
            "+-----------+---+------+---------------+--------------+-----------+------+-----------+-------------+-------------+-----------+-------+------------+----------------+------------------+\n",
            "|Customer_ID|Age|Gender|     Occupation|Marital Status|Family Size|Income|Expenditure|Use Frequency|Loan Category|Loan Amount|Overdue| Debt Record| Returned Cheque| Dishonour of Bill|\n",
            "+-----------+---+------+---------------+--------------+-----------+------+-----------+-------------+-------------+-----------+-------+------------+----------------+------------------+\n",
            "|    IB14158| 54|  MALE|AIRPORT OFFICER|       MARRIED|          6| 80000|      62541|            2|   AUTOMOBILE| 20,45,789 |      1|      16,599|               2|                 3|\n",
            "|    IB14176| 54|  MALE|AIRPORT OFFICER|       MARRIED|          6| 80000|      62541|            2|      HOUSING| 20,45,789 |      1|      16,599|               2|                 3|\n",
            "|    IB14204| 54|  MALE|AIRPORT OFFICER|       MARRIED|          6| 81000|      62541|            2|      DINNING| 20,45,789 |      1|      16,599|               2|                 3|\n",
            "|    IB14227| 54|  MALE|AIRPORT OFFICER|       MARRIED|          6| 80000|      62541|            2|      HOUSING| 20,45,789 |      1|      16,599|               2|                 3|\n",
            "|    IB14278| 41|  MALE|   BANK MANAGER|       MARRIED|          6| 64125|      51246|            6|   TRAVELLING|  6,52,147 |      5|      16,524|               3|                 3|\n",
            "|    IB15024| 26|  MALE|      DIETICIAN|        SINGLE|          3| 95425|      53086|            2|      HOUSING|    488,076|      4|       61227|               5|                 2|\n",
            "+-----------+---+------+---------------+--------------+-----------+------+-----------+-------------+-------------+-----------+-------+------------+----------------+------------------+\n",
            "\n"
          ]
        }
      ]
    },
    {
      "cell_type": "markdown",
      "source": [
        "# CREDIT CARD DATASET"
      ],
      "metadata": {
        "id": "cwd0RdhwyQQA"
      }
    },
    {
      "cell_type": "code",
      "source": [
        "dfc = spark.read.csv('/content/drive/MyDrive/Datasets/credit card.csv', inferSchema = True, header = True)"
      ],
      "metadata": {
        "id": "WUFiMzJcyTsK"
      },
      "execution_count": 16,
      "outputs": []
    },
    {
      "cell_type": "code",
      "source": [
        "dfc.printSchema()"
      ],
      "metadata": {
        "colab": {
          "base_uri": "https://localhost:8080/"
        },
        "id": "9dhaBniUyd3j",
        "outputId": "e58d608f-2e76-4212-b7c3-f67e0d397f8c"
      },
      "execution_count": 17,
      "outputs": [
        {
          "output_type": "stream",
          "name": "stdout",
          "text": [
            "root\n",
            " |-- RowNumber: integer (nullable = true)\n",
            " |-- CustomerId: integer (nullable = true)\n",
            " |-- Surname: string (nullable = true)\n",
            " |-- CreditScore: integer (nullable = true)\n",
            " |-- Geography: string (nullable = true)\n",
            " |-- Gender: string (nullable = true)\n",
            " |-- Age: integer (nullable = true)\n",
            " |-- Tenure: integer (nullable = true)\n",
            " |-- Balance: double (nullable = true)\n",
            " |-- NumOfProducts: integer (nullable = true)\n",
            " |-- IsActiveMember: integer (nullable = true)\n",
            " |-- EstimatedSalary: double (nullable = true)\n",
            " |-- Exited: integer (nullable = true)\n",
            "\n"
          ]
        }
      ]
    },
    {
      "cell_type": "code",
      "source": [
        "print(\"Total Columns : \", len(dfc.columns))\n",
        "print(\"Total Count : \", dfc.count())\n",
        "print(\"Total Distinct Count : \",dfc.distinct().count())\n",
        "\n",
        "dfc.show(5)"
      ],
      "metadata": {
        "colab": {
          "base_uri": "https://localhost:8080/"
        },
        "id": "BmXeD8-NyeNa",
        "outputId": "ba6ed050-a029-4de2-fc97-b078ff61170c"
      },
      "execution_count": 18,
      "outputs": [
        {
          "output_type": "stream",
          "name": "stdout",
          "text": [
            "Total Columns :  13\n",
            "Total Count :  10000\n",
            "Total Distinct Count :  10000\n",
            "+---------+----------+--------+-----------+---------+------+---+------+---------+-------------+--------------+---------------+------+\n",
            "|RowNumber|CustomerId| Surname|CreditScore|Geography|Gender|Age|Tenure|  Balance|NumOfProducts|IsActiveMember|EstimatedSalary|Exited|\n",
            "+---------+----------+--------+-----------+---------+------+---+------+---------+-------------+--------------+---------------+------+\n",
            "|        1|  15634602|Hargrave|        619|   France|Female| 42|     2|      0.0|            1|             1|      101348.88|     1|\n",
            "|        2|  15647311|    Hill|        608|    Spain|Female| 41|     1| 83807.86|            1|             1|      112542.58|     0|\n",
            "|        3|  15619304|    Onio|        502|   France|Female| 42|     8| 159660.8|            3|             0|      113931.57|     1|\n",
            "|        4|  15701354|    Boni|        699|   France|Female| 39|     1|      0.0|            2|             0|       93826.63|     0|\n",
            "|        5|  15737888|Mitchell|        850|    Spain|Female| 43|     2|125510.82|            1|             1|        79084.1|     0|\n",
            "+---------+----------+--------+-----------+---------+------+---+------+---------+-------------+--------------+---------------+------+\n",
            "only showing top 5 rows\n",
            "\n"
          ]
        }
      ]
    },
    {
      "cell_type": "code",
      "source": [
        "#number of members who are elgible for credit card\n",
        "dfc.filter(dfc[\"CreditScore\"]>700).count()"
      ],
      "metadata": {
        "colab": {
          "base_uri": "https://localhost:8080/"
        },
        "id": "VMXpNWV-zEfa",
        "outputId": "e2a3f81d-fd38-4546-a23a-19d6173b1b82"
      },
      "execution_count": 19,
      "outputs": [
        {
          "output_type": "execute_result",
          "data": {
            "text/plain": [
              "3116"
            ]
          },
          "metadata": {},
          "execution_count": 19
        }
      ]
    },
    {
      "cell_type": "code",
      "source": [
        "#number of members who are  elgible and active in the bank\n",
        "dfc.filter((dfc[\"IsActiveMember\"]==1) & (dfc[\"CreditScore\"]>700)).count()"
      ],
      "metadata": {
        "colab": {
          "base_uri": "https://localhost:8080/"
        },
        "id": "s12CKzeKzFHp",
        "outputId": "a9df3db8-9159-4fee-8ef9-58a7c699439e"
      },
      "execution_count": 20,
      "outputs": [
        {
          "output_type": "execute_result",
          "data": {
            "text/plain": [
              "1637"
            ]
          },
          "metadata": {},
          "execution_count": 20
        }
      ]
    },
    {
      "cell_type": "code",
      "source": [
        "#credit card users in Spain\n",
        "dfc.filter(dfc[\"Geography\"]==\"Spain\").show()"
      ],
      "metadata": {
        "colab": {
          "base_uri": "https://localhost:8080/"
        },
        "id": "t8ttdy0XzJ0b",
        "outputId": "92bc67b4-3a21-4d8c-f58a-44e781a595d8"
      },
      "execution_count": 21,
      "outputs": [
        {
          "output_type": "stream",
          "name": "stdout",
          "text": [
            "+---------+----------+---------+-----------+---------+------+---+------+---------+-------------+--------------+---------------+------+\n",
            "|RowNumber|CustomerId|  Surname|CreditScore|Geography|Gender|Age|Tenure|  Balance|NumOfProducts|IsActiveMember|EstimatedSalary|Exited|\n",
            "+---------+----------+---------+-----------+---------+------+---+------+---------+-------------+--------------+---------------+------+\n",
            "|        2|  15647311|     Hill|        608|    Spain|Female| 41|     1| 83807.86|            1|             1|      112542.58|     0|\n",
            "|        5|  15737888| Mitchell|        850|    Spain|Female| 43|     2|125510.82|            1|             1|        79084.1|     0|\n",
            "|        6|  15574012|      Chu|        645|    Spain|  Male| 44|     8|113755.78|            2|             0|      149756.71|     1|\n",
            "|       12|  15737173|  Andrews|        497|    Spain|  Male| 24|     3|      0.0|            2|             0|       76390.01|     0|\n",
            "|       15|  15600882|    Scott|        635|    Spain|Female| 35|     7|      0.0|            2|             1|       65951.65|     0|\n",
            "|       18|  15788218|Henderson|        549|    Spain|Female| 24|     9|      0.0|            2|             1|       14406.41|     0|\n",
            "|       19|  15661507|  Muldrow|        587|    Spain|  Male| 45|     6|      0.0|            1|             0|      158684.81|     0|\n",
            "|       22|  15597945| Dellucci|        636|    Spain|Female| 32|     8|      0.0|            2|             0|      138555.46|     0|\n",
            "|       23|  15699309|Gerasimov|        510|    Spain|Female| 38|     4|      0.0|            1|             0|      118913.53|     1|\n",
            "|       31|  15589475|  Azikiwe|        591|    Spain|Female| 39|     3|      0.0|            3|             0|      140469.38|     1|\n",
            "|       34|  15659428|  Maggard|        520|    Spain|Female| 42|     6|      0.0|            2|             1|       34410.55|     0|\n",
            "|       35|  15732963| Clements|        722|    Spain|Female| 29|     9|      0.0|            2|             1|      142033.07|     0|\n",
            "|       37|  15788448|   Watson|        490|    Spain|  Male| 31|     3|145260.23|            1|             1|      114066.77|     0|\n",
            "|       38|  15729599|  Lorenzo|        804|    Spain|  Male| 33|     7|  76548.6|            1|             1|       98453.45|     0|\n",
            "|       41|  15619360|    Hsiao|        472|    Spain|  Male| 40|     4|      0.0|            1|             0|       70154.22|     0|\n",
            "|       45|  15684171|  Bianchi|        660|    Spain|Female| 61|     5|155931.11|            1|             1|      158338.39|     0|\n",
            "|       59|  15623944|    T'ien|        511|    Spain|Female| 66|     4|      0.0|            1|             0|        1643.11|     1|\n",
            "|       63|  15702014|  Jeffrey|        555|    Spain|  Male| 33|     1| 56084.69|            2|             0|      178798.13|     0|\n",
            "|       64|  15751208|  Pirozzi|        684|    Spain|  Male| 56|     8| 78707.16|            1|             1|       99398.36|     0|\n",
            "|       73|  15812518|  Palermo|        657|    Spain|Female| 37|     0|163607.18|            1|             1|       44203.55|     0|\n",
            "+---------+----------+---------+-----------+---------+------+---+------+---------+-------------+--------------+---------------+------+\n",
            "only showing top 20 rows\n",
            "\n"
          ]
        }
      ]
    },
    {
      "cell_type": "code",
      "source": [
        "dfc.filter((dfc[\"EstimatedSalary\"]>100000) & (dfc[\"Exited\"]==1)).count()"
      ],
      "metadata": {
        "colab": {
          "base_uri": "https://localhost:8080/"
        },
        "id": "UmPAhK9xzLZ_",
        "outputId": "10212630-2260-4872-aa3a-934ce0af9a3f"
      },
      "execution_count": 22,
      "outputs": [
        {
          "output_type": "execute_result",
          "data": {
            "text/plain": [
              "1044"
            ]
          },
          "metadata": {},
          "execution_count": 22
        }
      ]
    },
    {
      "cell_type": "code",
      "source": [
        "dfc.filter((dfc[\"EstimatedSalary\"]<100000) & (dfc[\"NumOfProducts\"]>1)).count()"
      ],
      "metadata": {
        "colab": {
          "base_uri": "https://localhost:8080/"
        },
        "id": "SnvhKqWBzORy",
        "outputId": "76d9871c-7cbb-4bda-d184-94437fbcc4fb"
      },
      "execution_count": 23,
      "outputs": [
        {
          "output_type": "execute_result",
          "data": {
            "text/plain": [
              "2432"
            ]
          },
          "metadata": {},
          "execution_count": 23
        }
      ]
    },
    {
      "cell_type": "markdown",
      "source": [
        "# TRANSACTION DATASET"
      ],
      "metadata": {
        "id": "MdyP579CzUqx"
      }
    },
    {
      "cell_type": "code",
      "source": [
        "txn = spark.read.csv('/content/drive/MyDrive/Datasets/txn.csv', inferSchema=True, header =True)"
      ],
      "metadata": {
        "id": "HDsHrxfPzYoe"
      },
      "execution_count": 24,
      "outputs": []
    },
    {
      "cell_type": "code",
      "source": [
        "txn.printSchema()"
      ],
      "metadata": {
        "colab": {
          "base_uri": "https://localhost:8080/"
        },
        "id": "m2zTqFT5zhP2",
        "outputId": "1447c000-74f4-403c-913e-d88c87b4db59"
      },
      "execution_count": 25,
      "outputs": [
        {
          "output_type": "stream",
          "name": "stdout",
          "text": [
            "root\n",
            " |-- Account No: string (nullable = true)\n",
            " |-- TRANSACTION DETAILS: string (nullable = true)\n",
            " |-- VALUE DATE: string (nullable = true)\n",
            " |--  WITHDRAWAL AMT : double (nullable = true)\n",
            " |--  DEPOSIT AMT : double (nullable = true)\n",
            " |-- BALANCE AMT: double (nullable = true)\n",
            "\n"
          ]
        }
      ]
    },
    {
      "cell_type": "code",
      "source": [
        "#COUNT OF TRANSACTION ON EVERY ACCOUNT\n",
        "txn.groupBy(\"Account No\").count().show()"
      ],
      "metadata": {
        "colab": {
          "base_uri": "https://localhost:8080/"
        },
        "id": "w3HgOAYJziz2",
        "outputId": "1b5d5b7e-f025-47e5-dd17-fd0d546a1df3"
      },
      "execution_count": 26,
      "outputs": [
        {
          "output_type": "stream",
          "name": "stdout",
          "text": [
            "+-------------+-----+\n",
            "|   Account No|count|\n",
            "+-------------+-----+\n",
            "|409000438611'| 4588|\n",
            "|     1196711'|10536|\n",
            "|     1196428'|48779|\n",
            "|409000493210'| 6014|\n",
            "|409000611074'| 1093|\n",
            "|409000425051'|  802|\n",
            "|409000405747'|   51|\n",
            "|409000362497'|29840|\n",
            "|409000493201'| 1044|\n",
            "|409000438620'|13454|\n",
            "+-------------+-----+\n",
            "\n"
          ]
        }
      ]
    },
    {
      "cell_type": "code",
      "source": [
        "#Maximum withdrawal amount\n",
        "txn.groupBy(\"Account No\").max(\" WITHDRAWAL AMT \").orderBy(\"max( WITHDRAWAL AMT )\", ascending = False).show()"
      ],
      "metadata": {
        "colab": {
          "base_uri": "https://localhost:8080/"
        },
        "id": "gfTgn7qgzksj",
        "outputId": "02fb6a3b-cedc-4b17-b2ed-279f2ba80417"
      },
      "execution_count": 27,
      "outputs": [
        {
          "output_type": "stream",
          "name": "stdout",
          "text": [
            "+-------------+---------------------+\n",
            "|   Account No|max( WITHDRAWAL AMT )|\n",
            "+-------------+---------------------+\n",
            "|     1196711'|        4.594475464E8|\n",
            "|409000438620'|                4.0E8|\n",
            "|409000425051'|               3.54E8|\n",
            "|409000438611'|                2.4E8|\n",
            "|409000405747'|                1.7E8|\n",
            "|     1196428'|                1.5E8|\n",
            "|409000362497'|        1.413662392E8|\n",
            "|409000493210'|                1.5E7|\n",
            "|409000493201'|            2500000.0|\n",
            "|409000611074'|             912000.0|\n",
            "+-------------+---------------------+\n",
            "\n"
          ]
        }
      ]
    },
    {
      "cell_type": "code",
      "source": [
        "#MINIMUM WITHDRAWAL AMOUNT OF AN ACCOUNT\n",
        "txn.groupBy(\"Account No\").min(\" WITHDRAWAL AMT \").orderBy(\"min( WITHDRAWAL AMT )\").show()"
      ],
      "metadata": {
        "colab": {
          "base_uri": "https://localhost:8080/"
        },
        "id": "hw9yf9M5znEg",
        "outputId": "f0263dba-3a05-4492-aae0-7ad12a2e8917"
      },
      "execution_count": 28,
      "outputs": [
        {
          "output_type": "stream",
          "name": "stdout",
          "text": [
            "+-------------+---------------------+\n",
            "|   Account No|min( WITHDRAWAL AMT )|\n",
            "+-------------+---------------------+\n",
            "|409000493210'|                 0.01|\n",
            "|409000438611'|                  0.2|\n",
            "|     1196711'|                 0.25|\n",
            "|     1196428'|                 0.25|\n",
            "|409000438620'|                 0.34|\n",
            "|409000362497'|                 0.97|\n",
            "|409000425051'|                 1.25|\n",
            "|409000493201'|                  2.1|\n",
            "|409000405747'|                 21.0|\n",
            "|409000611074'|                120.0|\n",
            "+-------------+---------------------+\n",
            "\n"
          ]
        }
      ]
    },
    {
      "cell_type": "code",
      "source": [
        "#MAXIMUM DEPOSIT AMOUNT OF AN ACCOUNT\n",
        "txn.groupBy(\"Account No\").max(\" DEPOSIT AMT \").orderBy(\"max( DEPOSIT AMT )\", ascending = False).show()"
      ],
      "metadata": {
        "colab": {
          "base_uri": "https://localhost:8080/"
        },
        "id": "yjQv4-g7zqn2",
        "outputId": "fc5e0c2e-b999-4287-f206-f4aa6d47476f"
      },
      "execution_count": 29,
      "outputs": [
        {
          "output_type": "stream",
          "name": "stdout",
          "text": [
            "+-------------+------------------+\n",
            "|   Account No|max( DEPOSIT AMT )|\n",
            "+-------------+------------------+\n",
            "|409000438620'|           5.448E8|\n",
            "|     1196711'|             5.0E8|\n",
            "|     1196428'|     2.119594422E8|\n",
            "|409000405747'|           2.021E8|\n",
            "|409000362497'|             2.0E8|\n",
            "|409000438611'|          1.7025E8|\n",
            "|409000493210'|             1.5E7|\n",
            "|409000425051'|             1.5E7|\n",
            "|409000611074'|         3000000.0|\n",
            "|409000493201'|         1000000.0|\n",
            "+-------------+------------------+\n",
            "\n"
          ]
        }
      ]
    },
    {
      "cell_type": "code",
      "source": [
        "#MINIMUM DEPOSIT AMOUNT OF AN ACCOUNT\n",
        "txn.groupBy(\"Account No\").min(\" DEPOSIT AMT \").orderBy(\"min( DEPOSIT AMT )\").show()"
      ],
      "metadata": {
        "colab": {
          "base_uri": "https://localhost:8080/"
        },
        "id": "uNKiL8jqzsRh",
        "outputId": "00f2085b-c8d1-41c9-a39a-59ce0adc07ee"
      },
      "execution_count": 30,
      "outputs": [
        {
          "output_type": "stream",
          "name": "stdout",
          "text": [
            "+-------------+------------------+\n",
            "|   Account No|min( DEPOSIT AMT )|\n",
            "+-------------+------------------+\n",
            "|409000493210'|              0.01|\n",
            "|409000438611'|              0.03|\n",
            "|409000362497'|              0.03|\n",
            "|409000438620'|              0.07|\n",
            "|409000493201'|               0.9|\n",
            "|     1196428'|               1.0|\n",
            "|409000425051'|               1.0|\n",
            "|     1196711'|              1.01|\n",
            "|409000405747'|             500.0|\n",
            "|409000611074'|            1320.0|\n",
            "+-------------+------------------+\n",
            "\n"
          ]
        }
      ]
    },
    {
      "cell_type": "code",
      "source": [
        "#sum of balance in every bank account\n",
        "txn.groupBy(\"Account No\").sum(\"BALANCE AMT\").show()"
      ],
      "metadata": {
        "colab": {
          "base_uri": "https://localhost:8080/"
        },
        "id": "VgsGEpgpzuQe",
        "outputId": "82f0d21a-ac1d-44f9-d251-fde5d00a7a00"
      },
      "execution_count": 31,
      "outputs": [
        {
          "output_type": "stream",
          "name": "stdout",
          "text": [
            "+-------------+--------------------+\n",
            "|   Account No|    sum(BALANCE AMT)|\n",
            "+-------------+--------------------+\n",
            "|409000438611'|-2.49486577068339...|\n",
            "|     1196711'|-1.60476498101275E13|\n",
            "|     1196428'| -8.1418498130721E13|\n",
            "|409000493210'|-3.27584952132095...|\n",
            "|409000611074'|       1.615533622E9|\n",
            "|409000425051'|-3.77211841164998...|\n",
            "|409000405747'|-2.43108047067000...|\n",
            "|409000362497'| -5.2860004792808E13|\n",
            "|409000493201'|1.0420831829499985E9|\n",
            "|409000438620'|-7.12291867951358...|\n",
            "+-------------+--------------------+\n",
            "\n"
          ]
        }
      ]
    },
    {
      "cell_type": "code",
      "source": [
        "#Number of transaction on each date\n",
        "txn.groupBy(\"VALUE DATE\").count().orderBy(\"count\", ascending = False).show()"
      ],
      "metadata": {
        "colab": {
          "base_uri": "https://localhost:8080/"
        },
        "id": "KFjoB58KzxOg",
        "outputId": "ff54d7cf-4bfc-4888-a104-ce1ff4a8e51c"
      },
      "execution_count": 32,
      "outputs": [
        {
          "output_type": "stream",
          "name": "stdout",
          "text": [
            "+----------+-----+\n",
            "|VALUE DATE|count|\n",
            "+----------+-----+\n",
            "| 27-Jul-17|  567|\n",
            "| 13-Aug-18|  463|\n",
            "|  8-Nov-17|  402|\n",
            "|  7-Oct-17|  382|\n",
            "| 10-Jul-18|  374|\n",
            "| 12-Dec-17|  367|\n",
            "| 12-Sep-18|  365|\n",
            "|  9-Aug-18|  360|\n",
            "| 19-Sep-17|  358|\n",
            "| 16-Mar-17|  353|\n",
            "| 10-Sep-18|  344|\n",
            "| 14-Jul-17|  333|\n",
            "|  7-Mar-18|  319|\n",
            "| 11-Oct-18|  303|\n",
            "| 22-Aug-17|  301|\n",
            "|  9-Jan-18|  299|\n",
            "|  9-Oct-18|  297|\n",
            "| 20-Apr-18|  296|\n",
            "|  9-Jul-18|  292|\n",
            "|  7-Apr-18|  291|\n",
            "+----------+-----+\n",
            "only showing top 20 rows\n",
            "\n"
          ]
        }
      ]
    },
    {
      "cell_type": "code",
      "source": [
        "#List of customers with withdrawal amount more than 1 lakh\n",
        "txn.select(\"Account No\",\"TRANSACTION DETAILS\",\" WITHDRAWAL AMT \").filter(txn[\" WITHDRAWAL AMT \"]>100000).show()"
      ],
      "metadata": {
        "colab": {
          "base_uri": "https://localhost:8080/"
        },
        "id": "v2Y-2jcSz3jl",
        "outputId": "e916bdbf-960f-4c57-c6fa-9a3e58c2cfe7"
      },
      "execution_count": 33,
      "outputs": [
        {
          "output_type": "stream",
          "name": "stdout",
          "text": [
            "+-------------+--------------------+----------------+\n",
            "|   Account No| TRANSACTION DETAILS| WITHDRAWAL AMT |\n",
            "+-------------+--------------------+----------------+\n",
            "|409000611074'|INDO GIBL Indiafo...|        133900.0|\n",
            "|409000611074'|INDO GIBL Indiafo...|        195800.0|\n",
            "|409000611074'|INDO GIBL Indiafo...|        143800.0|\n",
            "|409000611074'|INDO GIBL Indiafo...|        331650.0|\n",
            "|409000611074'|INDO GIBL Indiafo...|        129000.0|\n",
            "|409000611074'|INDO GIBL Indiafo...|        230013.0|\n",
            "|409000611074'|INDO GIBL Indiafo...|        367900.0|\n",
            "|409000611074'|INDO GIBL Indiafo...|        108000.0|\n",
            "|409000611074'|INDO GIBL Indiafo...|        141000.0|\n",
            "|409000611074'|INDO GIBL Indiafo...|        206000.0|\n",
            "|409000611074'|INDO GIBL Indiafo...|        242300.0|\n",
            "|409000611074'|INDO GIBL Indiafo...|        113250.0|\n",
            "|409000611074'|INDO GIBL Indiafo...|        206900.0|\n",
            "|409000611074'|INDO GIBL Indiafo...|        276000.0|\n",
            "|409000611074'|INDO GIBL Indiafo...|        171000.0|\n",
            "|409000611074'|INDO GIBL Indiafo...|        189800.0|\n",
            "|409000611074'|INDO GIBL Indiafo...|        271323.0|\n",
            "|409000611074'|INDO GIBL Indiafo...|        200600.0|\n",
            "|409000611074'|INDO GIBL Indiafo...|        176900.0|\n",
            "|409000611074'|INDO GIBL Indiafo...|        150050.0|\n",
            "+-------------+--------------------+----------------+\n",
            "only showing top 20 rows\n",
            "\n"
          ]
        }
      ]
    },
    {
      "cell_type": "markdown",
      "source": [
        "# VISUALIZATION AND PLOTS"
      ],
      "metadata": {
        "id": "v561DcdN4v27"
      }
    },
    {
      "cell_type": "markdown",
      "source": [
        "## Data Loading"
      ],
      "metadata": {
        "id": "0KUFwz0255yo"
      }
    },
    {
      "cell_type": "code",
      "source": [
        "\n",
        "sns.set_style('whitegrid')\n",
        "plt.rcParams.update({'figure.figsize': (8,4), 'axes.titlesize':13, 'axes.labelsize':11})\n",
        "\n",
        "# Load data\n",
        "cc = pd.read_csv('/content/drive/MyDrive/Datasets/credit card.csv', low_memory=False)\n",
        "loan = pd.read_csv('/content/drive/MyDrive/Datasets/loan.csv', low_memory=False)\n",
        "txn = pd.read_csv('/content/drive/MyDrive/Datasets/txn.csv', low_memory=False)\n",
        "\n",
        "# Simple cleaning\n",
        "cc.columns = [c.strip() for c in cc.columns]\n",
        "loan.columns = [c.strip() for c in loan.columns]\n",
        "txn.columns = [c.strip() for c in txn.columns]\n",
        "\n",
        "# Ensure Exited is numeric\n",
        "if 'Exited' in cc.columns:\n",
        "    cc['Exited'] = pd.to_numeric(cc['Exited'], errors='coerce').fillna(0).astype(int)\n",
        "\n",
        "# Normalize txn columns\n",
        "for c in txn.columns:\n",
        "    cl = c.upper()\n",
        "    if 'WITHDRAW' in cl:\n",
        "        txn.rename(columns={c:'withdrawal_amt'}, inplace=True)\n",
        "    if 'DEPOSIT' in cl:\n",
        "        txn.rename(columns={c:'deposit_amt'}, inplace=True)\n",
        "    if 'BALANCE' in cl:\n",
        "        txn.rename(columns={c:'balance_amt'}, inplace=True)\n",
        "    if 'VALUE DATE' in cl or ('VALUE' in cl and 'DATE' in cl):\n",
        "        txn.rename(columns={c:'value_date'}, inplace=True)\n",
        "\n",
        "# Convert amounts to numeric\n",
        "for col in ['deposit_amt','withdrawal_amt','balance_amt']:\n",
        "    if col in txn.columns:\n",
        "        txn[col] = pd.to_numeric(txn[col].astype(str).str.replace('[,\\s₹$]', '', regex=True), errors='coerce')\n",
        "    else:\n",
        "        txn[col] = 0\n",
        "\n",
        "# Create txn_amount\n",
        "txn['deposit_amt_f'] = txn['deposit_amt'].fillna(0)\n",
        "txn['withdrawal_amt_f'] = txn['withdrawal_amt'].fillna(0)\n",
        "txn['txn_amount'] = txn['deposit_amt_f'] - txn['withdrawal_amt_f']\n"
      ],
      "metadata": {
        "id": "iRKEI1101WDd"
      },
      "execution_count": null,
      "outputs": []
    },
    {
      "cell_type": "markdown",
      "source": [
        "## Plot 1: Age histogram"
      ],
      "metadata": {
        "id": "sta5WmyI41kR"
      }
    },
    {
      "cell_type": "code",
      "source": [
        "\n",
        "print('\\nPlot 1: Age distribution (histogram + KDE)')\n",
        "print('Explanation: Distribution of customer ages; KDE shows shape of distribution.')\n",
        "if 'Age' in cc.columns:\n",
        "    plt.figure()\n",
        "    sns.histplot(cc['Age'].dropna(), bins=25, kde=True, color='#4c72b0')\n",
        "    plt.title('Age distribution')\n",
        "    plt.xlabel('Age')\n",
        "    plt.ylabel('Count / density')\n",
        "    plt.show()\n",
        "else:\n",
        "    print('Age column not found.')"
      ],
      "metadata": {
        "colab": {
          "base_uri": "https://localhost:8080/",
          "height": 463
        },
        "id": "Dct243kt14nw",
        "outputId": "22de252a-40e7-4e96-dab4-fdff3b8ffdeb"
      },
      "execution_count": 35,
      "outputs": [
        {
          "output_type": "stream",
          "name": "stdout",
          "text": [
            "\n",
            "Plot 1: Age distribution (histogram + KDE)\n",
            "Explanation: Distribution of customer ages; KDE shows shape of distribution.\n"
          ]
        },
        {
          "output_type": "display_data",
          "data": {
            "text/plain": [
              "<Figure size 800x400 with 1 Axes>"
            ],
            "image/png": "[encoded data removed]"
          },
          "metadata": {}
        }
      ]
    },
    {
      "cell_type": "markdown",
      "source": [
        "## Plot 2: Churn pie chart"
      ],
      "metadata": {
        "id": "cUGv9AW647jX"
      }
    },
    {
      "cell_type": "code",
      "source": [
        "\n",
        "print('\\nPlot 2: Churn proportion (pie chart)')\n",
        "print('Explanation: Share of customers who exited vs stayed (class balance).')\n",
        "if 'Exited' in cc.columns:\n",
        "    counts = cc['Exited'].value_counts().sort_index()\n",
        "    labels = ['Stayed (0)','Exited (1)'] if len(counts)==2 else counts.index.astype(str)\n",
        "    colors = ['#66c2a5', '#fc8d62']\n",
        "    plt.figure()\n",
        "    plt.pie(counts, labels=labels, autopct='%1.1f%%', startangle=140, colors=colors)\n",
        "    plt.title('Overall churn')\n",
        "    plt.axis('equal')\n",
        "    plt.show()\n",
        "else:\n",
        "    print('Exited not found.')"
      ],
      "metadata": {
        "colab": {
          "base_uri": "https://localhost:8080/",
          "height": 422
        },
        "id": "5bfBlYFq1cVn",
        "outputId": "aaab18a0-b875-4edd-b097-5c8fa8629510"
      },
      "execution_count": 36,
      "outputs": [
        {
          "output_type": "stream",
          "name": "stdout",
          "text": [
            "\n",
            "Plot 2: Churn proportion (pie chart)\n",
            "Explanation: Share of customers who exited vs stayed (class balance).\n"
          ]
        },
        {
          "output_type": "display_data",
          "data": {
            "text/plain": [
              "<Figure size 800x400 with 1 Axes>"
            ],
            "image/png": "[encoded data removed]"
          },
          "metadata": {}
        }
      ]
    },
    {
      "cell_type": "markdown",
      "source": [
        "## Plot 3: Churn rate by Geography (bar)"
      ],
      "metadata": {
        "id": "Bz0q9BWz5ATZ"
      }
    },
    {
      "cell_type": "code",
      "source": [
        "\n",
        "print('\\nPlot 3: Churn rate by Geography')\n",
        "print('Explanation: Compare churn fractions across geographies.')\n",
        "if {'Geography','Exited'}.issubset(cc.columns):\n",
        "    geo = cc.groupby('Geography')['Exited'].mean().sort_values(ascending=False)\n",
        "    plt.figure()\n",
        "    plt.bar(geo.index, geo.values, color=['#4c72b0','#55a868','#c44e52'])\n",
        "    plt.title('Churn rate by Geography')\n",
        "    plt.ylabel('Churn rate')\n",
        "    plt.xticks(rotation=30)\n",
        "    for i,v in enumerate(geo.values):\n",
        "        plt.text(i, v+0.01, f'{v:.2f}', ha='center')\n",
        "    plt.show()\n",
        "else:\n",
        "    print('Geography or Exited missing.')"
      ],
      "metadata": {
        "colab": {
          "base_uri": "https://localhost:8080/",
          "height": 473
        },
        "id": "IhwCI_Ta2A9X",
        "outputId": "cfa4dafd-862b-4aa6-ba61-af83b6a5b666"
      },
      "execution_count": 37,
      "outputs": [
        {
          "output_type": "stream",
          "name": "stdout",
          "text": [
            "\n",
            "Plot 3: Churn rate by Geography\n",
            "Explanation: Compare churn fractions across geographies.\n"
          ]
        },
        {
          "output_type": "display_data",
          "data": {
            "text/plain": [
              "<Figure size 800x400 with 1 Axes>"
            ],
            "image/png": "[encoded data removed]"
          },
          "metadata": {}
        }
      ]
    },
    {
      "cell_type": "markdown",
      "source": [
        "## Plot 4: Balance by churn (boxplot)"
      ],
      "metadata": {
        "id": "pBjNYK4i5Esf"
      }
    },
    {
      "cell_type": "code",
      "source": [
        "\n",
        "if {'Balance','Exited'}.issubset(cc.columns):\n",
        "  plt.figure()\n",
        "  sns.boxplot(x='Exited', y='Balance', data=cc)\n",
        "  plt.title('Balance by Exited (0=Stayed,1=Exited)')\n",
        "  plt.xlabel('Exited')\n",
        "  plt.ylabel('Balance')\n",
        "  plt.show()\n",
        "else:\n",
        "  print('Balance or Exited column missing.')"
      ],
      "metadata": {
        "colab": {
          "base_uri": "https://localhost:8080/",
          "height": 411
        },
        "id": "qE91rmx82BVM",
        "outputId": "db162705-7c1a-4bf4-c85b-2141e160a0af"
      },
      "execution_count": 38,
      "outputs": [
        {
          "output_type": "display_data",
          "data": {
            "text/plain": [
              "<Figure size 800x400 with 1 Axes>"
            ],
            "image/png": "[encoded data removed]"
          },
          "metadata": {}
        }
      ]
    },
    {
      "cell_type": "markdown",
      "source": [
        "## Plot 5: Loan Amount histogram"
      ],
      "metadata": {
        "id": "CD7ZyE-U5LZ_"
      }
    },
    {
      "cell_type": "code",
      "source": [
        "\n",
        "if 'Loan Amount' in loan.columns:\n",
        "  loan_amt_raw = loan['Loan Amount'].astype(str).str.replace(r'[\\s,₹$]', '', regex=True)\n",
        "  loan_amt = pd.to_numeric(loan_amt_raw, errors='coerce')\n",
        "  plt.figure()\n",
        "  sns.histplot(loan_amt.dropna(), bins=25, kde=False, color='#2b8cbe')\n",
        "  plt.title('Loan Amounts')\n",
        "  plt.xlabel('Loan Amount')\n",
        "  plt.ylabel('Count')\n",
        "  plt.show()\n",
        "else:\n",
        "  print('Loan Amount not found in loan data.')"
      ],
      "metadata": {
        "colab": {
          "base_uri": "https://localhost:8080/",
          "height": 411
        },
        "id": "XCndl1Jt2EgH",
        "outputId": "a3ab3a31-c797-49ac-f848-d7607fc9aad4"
      },
      "execution_count": 39,
      "outputs": [
        {
          "output_type": "display_data",
          "data": {
            "text/plain": [
              "<Figure size 800x400 with 1 Axes>"
            ],
            "image/png": "[encoded data removed]"
          },
          "metadata": {}
        }
      ]
    },
    {
      "cell_type": "markdown",
      "source": [
        "## Plot 6: Loan default pie (simple derived)\n"
      ],
      "metadata": {
        "id": "q7eAKUoL5P5K"
      }
    },
    {
      "cell_type": "code",
      "source": [
        "\n",
        "print('\\nPlot 6: Derived loan default rate (pie)')\n",
        "print('Explanation: Simple rule-based default flag. Validate before using.')\n",
        "cols_present = any(c in loan.columns for c in ['Overdue','Returned Cheque','Dishonour of Bill','Dishonour'])\n",
        "if cols_present:\n",
        "    overdue = pd.to_numeric(loan.get('Overdue', 0), errors='coerce').fillna(0)\n",
        "    ret = pd.to_numeric(loan.get('Returned Cheque', loan.get(' Returned Cheque', 0)), errors='coerce').fillna(0)\n",
        "    dish = pd.to_numeric(loan.get('Dishonour of Bill', loan.get(' Dishonour of Bill', loan.get('Dishonour', 0))), errors='coerce').fillna(0)\n",
        "    default_flag = ((overdue>0) | (ret>0) | (dish>0)).astype(int)\n",
        "    counts = default_flag.value_counts().sort_index()\n",
        "    labels = ['Non-default','Default'] if len(counts)==2 else counts.index.astype(str)\n",
        "    plt.figure()\n",
        "    plt.pie(counts, labels=labels, autopct='%1.1f%%', startangle=90, colors=['#66c2a5','#fc8d62'])\n",
        "    plt.title('Derived loan default rate')\n",
        "    plt.axis('equal')\n",
        "    plt.show()\n",
        "else:\n",
        "    print('No overdue/returned/dishonour columns found.')"
      ],
      "metadata": {
        "colab": {
          "base_uri": "https://localhost:8080/",
          "height": 426
        },
        "id": "dZ1ZAKMU2H3J",
        "outputId": "1761b8c8-5732-4a4a-c484-f60876bcbdf2"
      },
      "execution_count": 40,
      "outputs": [
        {
          "output_type": "stream",
          "name": "stdout",
          "text": [
            "\n",
            "Plot 6: Derived loan default rate (pie)\n",
            "Explanation: Simple rule-based default flag. Validate before using.\n"
          ]
        },
        {
          "output_type": "display_data",
          "data": {
            "text/plain": [
              "<Figure size 800x400 with 1 Axes>"
            ],
            "image/png": "[encoded data removed]"
          },
          "metadata": {}
        }
      ]
    },
    {
      "cell_type": "markdown",
      "source": [
        "## Plot 7: Transaction absolute amount histogram"
      ],
      "metadata": {
        "id": "4hLSTRVY5Tpw"
      }
    },
    {
      "cell_type": "code",
      "source": [
        "\n",
        "print('\\nPlot 7: Transaction absolute amount distribution')\n",
        "print('Explanation: Magnitude of transactions; log scale helps visualize heavy tails.')\n",
        "if 'txn_amount' in txn.columns:\n",
        "    vals = txn['txn_amount'].abs().dropna()\n",
        "    if len(vals)>0:\n",
        "        plt.figure()\n",
        "        sns.histplot(vals[vals>0], bins=50, kde=False, color='#b2df8a')\n",
        "        plt.yscale('log')\n",
        "        plt.title('Absolute txn amounts (log y-scale)')\n",
        "        plt.xlabel('Absolute txn amount')\n",
        "        plt.ylabel('Count (log scale)')\n",
        "        plt.show()\n",
        "    else:\n",
        "        print('No txn amounts available.')\n",
        "else:\n",
        "    print('txn_amount not found.')\n"
      ],
      "metadata": {
        "colab": {
          "base_uri": "https://localhost:8080/",
          "height": 463
        },
        "id": "0t6JIaOX2NXH",
        "outputId": "a662cb9b-350e-47f1-8e9a-f3107d8373ab"
      },
      "execution_count": 41,
      "outputs": [
        {
          "output_type": "stream",
          "name": "stdout",
          "text": [
            "\n",
            "Plot 7: Transaction absolute amount distribution\n",
            "Explanation: Magnitude of transactions; log scale helps visualize heavy tails.\n"
          ]
        },
        {
          "output_type": "display_data",
          "data": {
            "text/plain": [
              "<Figure size 800x400 with 1 Axes>"
            ],
            "image/png": "[encoded data removed]"
          },
          "metadata": {}
        }
      ]
    },
    {
      "cell_type": "markdown",
      "source": [
        "## Plot 8: Top 10 accounts by transaction count\n"
      ],
      "metadata": {
        "id": "d1nmvB-C5bdn"
      }
    },
    {
      "cell_type": "code",
      "source": [
        "\n",
        "acct_col = None\n",
        "for c in ['Account No','account_no','AccountNo']:\n",
        "    if c in txn.columns:\n",
        "        acct_col = c\n",
        "        break\n",
        "if acct_col:\n",
        "    top = txn[acct_col].value_counts().head(10)\n",
        "    plt.figure()\n",
        "    colors = sns.color_palette('Set2', n_colors=len(top))\n",
        "    plt.bar(top.index.astype(str), top.values, color=colors)\n",
        "    plt.title('Top 10 accounts by txn count')\n",
        "    plt.xlabel('Account')\n",
        "    plt.ylabel('Transaction count')\n",
        "    plt.xticks(rotation=30)\n",
        "    for i,v in enumerate(top.values):\n",
        "        plt.text(i, v+0.5, str(v), ha='center')\n",
        "    plt.show()\n",
        "else:\n",
        "    print('Account column not found in txn data.')\n"
      ],
      "metadata": {
        "colab": {
          "base_uri": "https://localhost:8080/",
          "height": 464
        },
        "id": "GrnsCUM44Emm",
        "outputId": "ae5d7d7b-68de-4d82-e539-db9565f0f713"
      },
      "execution_count": 42,
      "outputs": [
        {
          "output_type": "display_data",
          "data": {
            "text/plain": [
              "<Figure size 800x400 with 1 Axes>"
            ],
            "image/png": "[encoded data removed]"
          },
          "metadata": {}
        }
      ]
    }
  ]
}